{
 "cells": [
  {
   "cell_type": "code",
   "execution_count": 1,
   "id": "0dcc9491",
   "metadata": {},
   "outputs": [],
   "source": [
    "import numpy as np\n",
    "import pandas as pd\n",
    "import matplotlib.pyplot as plt\n",
    "import seaborn as sns\n",
    "import difflib \n",
    "from sklearn.feature_extraction.text import TfidfVectorizer\n",
    "from sklearn.metrics.pairwise import cosine_similarity"
   ]
  },
  {
   "cell_type": "code",
   "execution_count": 2,
   "id": "488f1287",
   "metadata": {},
   "outputs": [
    {
     "data": {
      "text/html": [
       "<div>\n",
       "<style scoped>\n",
       "    .dataframe tbody tr th:only-of-type {\n",
       "        vertical-align: middle;\n",
       "    }\n",
       "\n",
       "    .dataframe tbody tr th {\n",
       "        vertical-align: top;\n",
       "    }\n",
       "\n",
       "    .dataframe thead th {\n",
       "        text-align: right;\n",
       "    }\n",
       "</style>\n",
       "<table border=\"1\" class=\"dataframe\">\n",
       "  <thead>\n",
       "    <tr style=\"text-align: right;\">\n",
       "      <th></th>\n",
       "      <th>Title</th>\n",
       "      <th>Author</th>\n",
       "      <th>Genre</th>\n",
       "      <th>Height</th>\n",
       "      <th>Publisher</th>\n",
       "    </tr>\n",
       "  </thead>\n",
       "  <tbody>\n",
       "    <tr>\n",
       "      <th>0</th>\n",
       "      <td>Fundamentals of Wavelets</td>\n",
       "      <td>Goswami, Jaideva</td>\n",
       "      <td>signal_processing</td>\n",
       "      <td>228</td>\n",
       "      <td>Wiley</td>\n",
       "    </tr>\n",
       "    <tr>\n",
       "      <th>1</th>\n",
       "      <td>Data Smart</td>\n",
       "      <td>Foreman, John</td>\n",
       "      <td>data_science</td>\n",
       "      <td>235</td>\n",
       "      <td>Wiley</td>\n",
       "    </tr>\n",
       "    <tr>\n",
       "      <th>2</th>\n",
       "      <td>God Created the Integers</td>\n",
       "      <td>Hawking, Stephen</td>\n",
       "      <td>mathematics</td>\n",
       "      <td>197</td>\n",
       "      <td>Penguin</td>\n",
       "    </tr>\n",
       "    <tr>\n",
       "      <th>3</th>\n",
       "      <td>Superfreakonomics</td>\n",
       "      <td>Dubner, Stephen</td>\n",
       "      <td>economics</td>\n",
       "      <td>179</td>\n",
       "      <td>HarperCollins</td>\n",
       "    </tr>\n",
       "    <tr>\n",
       "      <th>4</th>\n",
       "      <td>Orientalism</td>\n",
       "      <td>Said, Edward</td>\n",
       "      <td>history</td>\n",
       "      <td>197</td>\n",
       "      <td>Penguin</td>\n",
       "    </tr>\n",
       "  </tbody>\n",
       "</table>\n",
       "</div>"
      ],
      "text/plain": [
       "                      Title            Author              Genre  Height  \\\n",
       "0  Fundamentals of Wavelets  Goswami, Jaideva  signal_processing     228   \n",
       "1                Data Smart     Foreman, John       data_science     235   \n",
       "2  God Created the Integers  Hawking, Stephen        mathematics     197   \n",
       "3         Superfreakonomics   Dubner, Stephen          economics     179   \n",
       "4               Orientalism      Said, Edward            history     197   \n",
       "\n",
       "       Publisher  \n",
       "0          Wiley  \n",
       "1          Wiley  \n",
       "2        Penguin  \n",
       "3  HarperCollins  \n",
       "4        Penguin  "
      ]
     },
     "execution_count": 2,
     "metadata": {},
     "output_type": "execute_result"
    }
   ],
   "source": [
    "df=pd.read_csv('books.csv')\n",
    "df.head()"
   ]
  },
  {
   "cell_type": "code",
   "execution_count": 3,
   "id": "f0d2fc8d",
   "metadata": {},
   "outputs": [
    {
     "data": {
      "text/plain": [
       "(211, 5)"
      ]
     },
     "execution_count": 3,
     "metadata": {},
     "output_type": "execute_result"
    }
   ],
   "source": [
    "df.shape"
   ]
  },
  {
   "cell_type": "code",
   "execution_count": 4,
   "id": "553261cc",
   "metadata": {},
   "outputs": [
    {
     "data": {
      "text/plain": [
       "Title         0\n",
       "Author       24\n",
       "Genre         0\n",
       "Height        0\n",
       "Publisher    96\n",
       "dtype: int64"
      ]
     },
     "execution_count": 4,
     "metadata": {},
     "output_type": "execute_result"
    }
   ],
   "source": [
    "df.isnull().sum()"
   ]
  },
  {
   "cell_type": "code",
   "execution_count": 5,
   "id": "d6c98219",
   "metadata": {},
   "outputs": [],
   "source": [
    "index_values = range(0, len(df))\n",
    "df['Index'] = index_values"
   ]
  },
  {
   "cell_type": "code",
   "execution_count": 6,
   "id": "e842737b",
   "metadata": {
    "scrolled": true
   },
   "outputs": [
    {
     "data": {
      "text/html": [
       "<div>\n",
       "<style scoped>\n",
       "    .dataframe tbody tr th:only-of-type {\n",
       "        vertical-align: middle;\n",
       "    }\n",
       "\n",
       "    .dataframe tbody tr th {\n",
       "        vertical-align: top;\n",
       "    }\n",
       "\n",
       "    .dataframe thead th {\n",
       "        text-align: right;\n",
       "    }\n",
       "</style>\n",
       "<table border=\"1\" class=\"dataframe\">\n",
       "  <thead>\n",
       "    <tr style=\"text-align: right;\">\n",
       "      <th></th>\n",
       "      <th>Title</th>\n",
       "      <th>Author</th>\n",
       "      <th>Genre</th>\n",
       "      <th>Height</th>\n",
       "      <th>Publisher</th>\n",
       "      <th>Index</th>\n",
       "    </tr>\n",
       "  </thead>\n",
       "  <tbody>\n",
       "    <tr>\n",
       "      <th>0</th>\n",
       "      <td>Fundamentals of Wavelets</td>\n",
       "      <td>Goswami, Jaideva</td>\n",
       "      <td>signal_processing</td>\n",
       "      <td>228</td>\n",
       "      <td>Wiley</td>\n",
       "      <td>0</td>\n",
       "    </tr>\n",
       "    <tr>\n",
       "      <th>1</th>\n",
       "      <td>Data Smart</td>\n",
       "      <td>Foreman, John</td>\n",
       "      <td>data_science</td>\n",
       "      <td>235</td>\n",
       "      <td>Wiley</td>\n",
       "      <td>1</td>\n",
       "    </tr>\n",
       "    <tr>\n",
       "      <th>2</th>\n",
       "      <td>God Created the Integers</td>\n",
       "      <td>Hawking, Stephen</td>\n",
       "      <td>mathematics</td>\n",
       "      <td>197</td>\n",
       "      <td>Penguin</td>\n",
       "      <td>2</td>\n",
       "    </tr>\n",
       "    <tr>\n",
       "      <th>3</th>\n",
       "      <td>Superfreakonomics</td>\n",
       "      <td>Dubner, Stephen</td>\n",
       "      <td>economics</td>\n",
       "      <td>179</td>\n",
       "      <td>HarperCollins</td>\n",
       "      <td>3</td>\n",
       "    </tr>\n",
       "    <tr>\n",
       "      <th>4</th>\n",
       "      <td>Orientalism</td>\n",
       "      <td>Said, Edward</td>\n",
       "      <td>history</td>\n",
       "      <td>197</td>\n",
       "      <td>Penguin</td>\n",
       "      <td>4</td>\n",
       "    </tr>\n",
       "  </tbody>\n",
       "</table>\n",
       "</div>"
      ],
      "text/plain": [
       "                      Title            Author              Genre  Height  \\\n",
       "0  Fundamentals of Wavelets  Goswami, Jaideva  signal_processing     228   \n",
       "1                Data Smart     Foreman, John       data_science     235   \n",
       "2  God Created the Integers  Hawking, Stephen        mathematics     197   \n",
       "3         Superfreakonomics   Dubner, Stephen          economics     179   \n",
       "4               Orientalism      Said, Edward            history     197   \n",
       "\n",
       "       Publisher  Index  \n",
       "0          Wiley      0  \n",
       "1          Wiley      1  \n",
       "2        Penguin      2  \n",
       "3  HarperCollins      3  \n",
       "4        Penguin      4  "
      ]
     },
     "execution_count": 6,
     "metadata": {},
     "output_type": "execute_result"
    }
   ],
   "source": [
    "df.head()"
   ]
  },
  {
   "cell_type": "code",
   "execution_count": 7,
   "id": "8a0b5d3c",
   "metadata": {},
   "outputs": [
    {
     "data": {
      "text/plain": [
       "array(['signal_processing', 'data_science', 'mathematics', 'economics',\n",
       "       'history', 'science', 'psychology', 'fiction', 'computer_science',\n",
       "       'nonfiction', 'philosophy', 'comic'], dtype=object)"
      ]
     },
     "execution_count": 7,
     "metadata": {},
     "output_type": "execute_result"
    }
   ],
   "source": [
    "df['Genre'].unique()"
   ]
  },
  {
   "cell_type": "code",
   "execution_count": 8,
   "id": "289c1408",
   "metadata": {},
   "outputs": [
    {
     "data": {
      "text/plain": [
       "array(['Wiley', 'Penguin', 'HarperCollins', 'Springer',\n",
       "       'Orient Blackswan', 'CRC', 'Apress', 'Random House', 'Bodley Head',\n",
       "       'MIT Press', \"O'Reilly\", 'HBA', 'Rupa', 'Transworld', 'Pan',\n",
       "       'Hyperion', 'Pocket', 'Mauj', 'BBC', 'Elsevier', 'Pearson',\n",
       "       'Prentice Hall', 'TMH', 'Picador', nan, 'vikas', 'Routledge',\n",
       "       'FreePress', 'Jaico', 'Vintage', 'HighStakes', 'Simon&Schuster',\n",
       "       'Fontana', 'Dell'], dtype=object)"
      ]
     },
     "execution_count": 8,
     "metadata": {},
     "output_type": "execute_result"
    }
   ],
   "source": [
    "df['Publisher'].unique()"
   ]
  },
  {
   "cell_type": "code",
   "execution_count": 9,
   "id": "98271001",
   "metadata": {},
   "outputs": [],
   "source": [
    "selected_features = ['Index','Genre','Title', 'Author', 'Publisher']"
   ]
  },
  {
   "cell_type": "code",
   "execution_count": 10,
   "id": "5a170b44",
   "metadata": {},
   "outputs": [],
   "source": [
    "for features in selected_features:\n",
    "    df[features]=df[features].fillna('')"
   ]
  },
  {
   "cell_type": "code",
   "execution_count": 11,
   "id": "770353f1",
   "metadata": {},
   "outputs": [
    {
     "data": {
      "text/html": [
       "<div>\n",
       "<style scoped>\n",
       "    .dataframe tbody tr th:only-of-type {\n",
       "        vertical-align: middle;\n",
       "    }\n",
       "\n",
       "    .dataframe tbody tr th {\n",
       "        vertical-align: top;\n",
       "    }\n",
       "\n",
       "    .dataframe thead th {\n",
       "        text-align: right;\n",
       "    }\n",
       "</style>\n",
       "<table border=\"1\" class=\"dataframe\">\n",
       "  <thead>\n",
       "    <tr style=\"text-align: right;\">\n",
       "      <th></th>\n",
       "      <th>Title</th>\n",
       "      <th>Author</th>\n",
       "      <th>Genre</th>\n",
       "      <th>Height</th>\n",
       "      <th>Publisher</th>\n",
       "      <th>Index</th>\n",
       "    </tr>\n",
       "  </thead>\n",
       "  <tbody>\n",
       "    <tr>\n",
       "      <th>0</th>\n",
       "      <td>Fundamentals of Wavelets</td>\n",
       "      <td>Goswami, Jaideva</td>\n",
       "      <td>signal_processing</td>\n",
       "      <td>228</td>\n",
       "      <td>Wiley</td>\n",
       "      <td>0</td>\n",
       "    </tr>\n",
       "    <tr>\n",
       "      <th>1</th>\n",
       "      <td>Data Smart</td>\n",
       "      <td>Foreman, John</td>\n",
       "      <td>data_science</td>\n",
       "      <td>235</td>\n",
       "      <td>Wiley</td>\n",
       "      <td>1</td>\n",
       "    </tr>\n",
       "    <tr>\n",
       "      <th>2</th>\n",
       "      <td>God Created the Integers</td>\n",
       "      <td>Hawking, Stephen</td>\n",
       "      <td>mathematics</td>\n",
       "      <td>197</td>\n",
       "      <td>Penguin</td>\n",
       "      <td>2</td>\n",
       "    </tr>\n",
       "    <tr>\n",
       "      <th>3</th>\n",
       "      <td>Superfreakonomics</td>\n",
       "      <td>Dubner, Stephen</td>\n",
       "      <td>economics</td>\n",
       "      <td>179</td>\n",
       "      <td>HarperCollins</td>\n",
       "      <td>3</td>\n",
       "    </tr>\n",
       "    <tr>\n",
       "      <th>4</th>\n",
       "      <td>Orientalism</td>\n",
       "      <td>Said, Edward</td>\n",
       "      <td>history</td>\n",
       "      <td>197</td>\n",
       "      <td>Penguin</td>\n",
       "      <td>4</td>\n",
       "    </tr>\n",
       "  </tbody>\n",
       "</table>\n",
       "</div>"
      ],
      "text/plain": [
       "                      Title            Author              Genre  Height  \\\n",
       "0  Fundamentals of Wavelets  Goswami, Jaideva  signal_processing     228   \n",
       "1                Data Smart     Foreman, John       data_science     235   \n",
       "2  God Created the Integers  Hawking, Stephen        mathematics     197   \n",
       "3         Superfreakonomics   Dubner, Stephen          economics     179   \n",
       "4               Orientalism      Said, Edward            history     197   \n",
       "\n",
       "       Publisher  Index  \n",
       "0          Wiley      0  \n",
       "1          Wiley      1  \n",
       "2        Penguin      2  \n",
       "3  HarperCollins      3  \n",
       "4        Penguin      4  "
      ]
     },
     "execution_count": 11,
     "metadata": {},
     "output_type": "execute_result"
    }
   ],
   "source": [
    "df.head()"
   ]
  },
  {
   "cell_type": "code",
   "execution_count": 12,
   "id": "a028fe8b",
   "metadata": {},
   "outputs": [
    {
     "name": "stdout",
     "output_type": "stream",
     "text": [
      "<class 'pandas.core.frame.DataFrame'>\n",
      "RangeIndex: 211 entries, 0 to 210\n",
      "Data columns (total 6 columns):\n",
      " #   Column     Non-Null Count  Dtype \n",
      "---  ------     --------------  ----- \n",
      " 0   Title      211 non-null    object\n",
      " 1   Author     211 non-null    object\n",
      " 2   Genre      211 non-null    object\n",
      " 3   Height     211 non-null    int64 \n",
      " 4   Publisher  211 non-null    object\n",
      " 5   Index      211 non-null    int64 \n",
      "dtypes: int64(2), object(4)\n",
      "memory usage: 10.0+ KB\n"
     ]
    }
   ],
   "source": [
    "df.info()"
   ]
  },
  {
   "cell_type": "code",
   "execution_count": 13,
   "id": "ecbc3c62",
   "metadata": {},
   "outputs": [
    {
     "name": "stdout",
     "output_type": "stream",
     "text": [
      "0      Fundamentals of Wavelets signal_processing Gos...\n",
      "1      Data Smart data_science Foreman, John Wiley Index\n",
      "2      God Created the Integers mathematics Hawking, ...\n",
      "3      Superfreakonomics economics Dubner, Stephen Ha...\n",
      "4         Orientalism history Said, Edward Penguin Index\n",
      "                             ...                        \n",
      "206    Structure and Randomness mathematics Tao, Tere...\n",
      "207    Image Processing with MATLAB signal_processing...\n",
      "208            Animal Farm fiction Orwell, George  Index\n",
      "209         Idiot, The fiction Dostoevsky, Fyodor  Index\n",
      "210    Christmas Carol, A fiction Dickens, Charles  I...\n",
      "Length: 211, dtype: object\n"
     ]
    }
   ],
   "source": [
    "combined_features = df['Title']+' '+df['Genre']+' '+df['Author']+' '+df['Publisher']+' '+['Index']\n",
    "print(combined_features)"
   ]
  },
  {
   "cell_type": "code",
   "execution_count": 14,
   "id": "2f18cc88",
   "metadata": {},
   "outputs": [],
   "source": [
    "vectorizer=TfidfVectorizer()"
   ]
  },
  {
   "cell_type": "code",
   "execution_count": 15,
   "id": "314a1855",
   "metadata": {},
   "outputs": [],
   "source": [
    "feature_vectors=vectorizer.fit_transform(combined_features)"
   ]
  },
  {
   "cell_type": "code",
   "execution_count": 16,
   "id": "ef3b434f",
   "metadata": {},
   "outputs": [],
   "source": [
    "similarity = cosine_similarity(feature_vectors)"
   ]
  },
  {
   "cell_type": "code",
   "execution_count": 17,
   "id": "ec9f667d",
   "metadata": {},
   "outputs": [
    {
     "data": {
      "text/plain": [
       "(211, 211)"
      ]
     },
     "execution_count": 17,
     "metadata": {},
     "output_type": "execute_result"
    }
   ],
   "source": [
    "similarity.shape"
   ]
  },
  {
   "cell_type": "code",
   "execution_count": 18,
   "id": "94206e08",
   "metadata": {},
   "outputs": [
    {
     "data": {
      "text/html": [
       "<div>\n",
       "<style scoped>\n",
       "    .dataframe tbody tr th:only-of-type {\n",
       "        vertical-align: middle;\n",
       "    }\n",
       "\n",
       "    .dataframe tbody tr th {\n",
       "        vertical-align: top;\n",
       "    }\n",
       "\n",
       "    .dataframe thead th {\n",
       "        text-align: right;\n",
       "    }\n",
       "</style>\n",
       "<table border=\"1\" class=\"dataframe\">\n",
       "  <thead>\n",
       "    <tr style=\"text-align: right;\">\n",
       "      <th></th>\n",
       "      <th>Title</th>\n",
       "      <th>Author</th>\n",
       "      <th>Genre</th>\n",
       "      <th>Height</th>\n",
       "      <th>Publisher</th>\n",
       "      <th>Index</th>\n",
       "    </tr>\n",
       "  </thead>\n",
       "  <tbody>\n",
       "    <tr>\n",
       "      <th>0</th>\n",
       "      <td>Fundamentals of Wavelets</td>\n",
       "      <td>Goswami, Jaideva</td>\n",
       "      <td>signal_processing</td>\n",
       "      <td>228</td>\n",
       "      <td>Wiley</td>\n",
       "      <td>0</td>\n",
       "    </tr>\n",
       "    <tr>\n",
       "      <th>1</th>\n",
       "      <td>Data Smart</td>\n",
       "      <td>Foreman, John</td>\n",
       "      <td>data_science</td>\n",
       "      <td>235</td>\n",
       "      <td>Wiley</td>\n",
       "      <td>1</td>\n",
       "    </tr>\n",
       "    <tr>\n",
       "      <th>2</th>\n",
       "      <td>God Created the Integers</td>\n",
       "      <td>Hawking, Stephen</td>\n",
       "      <td>mathematics</td>\n",
       "      <td>197</td>\n",
       "      <td>Penguin</td>\n",
       "      <td>2</td>\n",
       "    </tr>\n",
       "    <tr>\n",
       "      <th>3</th>\n",
       "      <td>Superfreakonomics</td>\n",
       "      <td>Dubner, Stephen</td>\n",
       "      <td>economics</td>\n",
       "      <td>179</td>\n",
       "      <td>HarperCollins</td>\n",
       "      <td>3</td>\n",
       "    </tr>\n",
       "    <tr>\n",
       "      <th>4</th>\n",
       "      <td>Orientalism</td>\n",
       "      <td>Said, Edward</td>\n",
       "      <td>history</td>\n",
       "      <td>197</td>\n",
       "      <td>Penguin</td>\n",
       "      <td>4</td>\n",
       "    </tr>\n",
       "    <tr>\n",
       "      <th>...</th>\n",
       "      <td>...</td>\n",
       "      <td>...</td>\n",
       "      <td>...</td>\n",
       "      <td>...</td>\n",
       "      <td>...</td>\n",
       "      <td>...</td>\n",
       "    </tr>\n",
       "    <tr>\n",
       "      <th>206</th>\n",
       "      <td>Structure and Randomness</td>\n",
       "      <td>Tao, Terence</td>\n",
       "      <td>mathematics</td>\n",
       "      <td>252</td>\n",
       "      <td></td>\n",
       "      <td>206</td>\n",
       "    </tr>\n",
       "    <tr>\n",
       "      <th>207</th>\n",
       "      <td>Image Processing with MATLAB</td>\n",
       "      <td>Eddins, Steve</td>\n",
       "      <td>signal_processing</td>\n",
       "      <td>241</td>\n",
       "      <td></td>\n",
       "      <td>207</td>\n",
       "    </tr>\n",
       "    <tr>\n",
       "      <th>208</th>\n",
       "      <td>Animal Farm</td>\n",
       "      <td>Orwell, George</td>\n",
       "      <td>fiction</td>\n",
       "      <td>180</td>\n",
       "      <td></td>\n",
       "      <td>208</td>\n",
       "    </tr>\n",
       "    <tr>\n",
       "      <th>209</th>\n",
       "      <td>Idiot, The</td>\n",
       "      <td>Dostoevsky, Fyodor</td>\n",
       "      <td>fiction</td>\n",
       "      <td>197</td>\n",
       "      <td></td>\n",
       "      <td>209</td>\n",
       "    </tr>\n",
       "    <tr>\n",
       "      <th>210</th>\n",
       "      <td>Christmas Carol, A</td>\n",
       "      <td>Dickens, Charles</td>\n",
       "      <td>fiction</td>\n",
       "      <td>196</td>\n",
       "      <td></td>\n",
       "      <td>210</td>\n",
       "    </tr>\n",
       "  </tbody>\n",
       "</table>\n",
       "<p>211 rows × 6 columns</p>\n",
       "</div>"
      ],
      "text/plain": [
       "                            Title              Author              Genre  \\\n",
       "0        Fundamentals of Wavelets    Goswami, Jaideva  signal_processing   \n",
       "1                      Data Smart       Foreman, John       data_science   \n",
       "2        God Created the Integers    Hawking, Stephen        mathematics   \n",
       "3               Superfreakonomics     Dubner, Stephen          economics   \n",
       "4                     Orientalism        Said, Edward            history   \n",
       "..                            ...                 ...                ...   \n",
       "206      Structure and Randomness        Tao, Terence        mathematics   \n",
       "207  Image Processing with MATLAB       Eddins, Steve  signal_processing   \n",
       "208                   Animal Farm      Orwell, George            fiction   \n",
       "209                    Idiot, The  Dostoevsky, Fyodor            fiction   \n",
       "210            Christmas Carol, A    Dickens, Charles            fiction   \n",
       "\n",
       "     Height      Publisher  Index  \n",
       "0       228          Wiley      0  \n",
       "1       235          Wiley      1  \n",
       "2       197        Penguin      2  \n",
       "3       179  HarperCollins      3  \n",
       "4       197        Penguin      4  \n",
       "..      ...            ...    ...  \n",
       "206     252                   206  \n",
       "207     241                   207  \n",
       "208     180                   208  \n",
       "209     197                   209  \n",
       "210     196                   210  \n",
       "\n",
       "[211 rows x 6 columns]"
      ]
     },
     "execution_count": 18,
     "metadata": {},
     "output_type": "execute_result"
    }
   ],
   "source": [
    "df"
   ]
  },
  {
   "cell_type": "code",
   "execution_count": 19,
   "id": "c39ffbec",
   "metadata": {},
   "outputs": [],
   "source": [
    "import pickle"
   ]
  },
  {
   "cell_type": "code",
   "execution_count": 20,
   "id": "6de26b29",
   "metadata": {},
   "outputs": [],
   "source": [
    "pickle.dump(df, open('Book_list.pkl','wb'))"
   ]
  },
  {
   "cell_type": "code",
   "execution_count": 21,
   "id": "9ee10b94",
   "metadata": {},
   "outputs": [],
   "source": [
    "pickle.dump(similarity, open('similarity.pkl','wb'))"
   ]
  },
  {
   "cell_type": "code",
   "execution_count": 22,
   "id": "3e997acd",
   "metadata": {},
   "outputs": [],
   "source": [
    "def get_recommended_books(book_name, df, similarity):\n",
    "    list_of_titles = df['Title'].tolist()\n",
    "    find_close_match = difflib.get_close_matches(book_name, list_of_titles)\n",
    "\n",
    "    if find_close_match:\n",
    "        close_match = find_close_match[0]\n",
    "        index_of_the_book = df[df['Title'] == close_match]['Index'].values[0]\n",
    "        similarity_score = list(enumerate(similarity[index_of_the_book]))\n",
    "        sorted_list = sorted(similarity_score, key=lambda x: x[1], reverse=True)\n",
    "\n",
    "        recommended_books = []\n",
    "        i = 1\n",
    "        for book in sorted_list:\n",
    "            index = book[0]\n",
    "            title_from_index = df[df.index == index]['Title'].values[0]\n",
    "            recommended_books.append(title_from_index)\n",
    "            i += 1\n",
    "            if i > 6:\n",
    "                break\n",
    "\n",
    "        return recommended_books\n",
    "    else:\n",
    "        return None\n"
   ]
  },
  {
   "cell_type": "code",
   "execution_count": 23,
   "id": "88fde2f5",
   "metadata": {},
   "outputs": [
    {
     "name": "stdout",
     "output_type": "stream",
     "text": [
      "Enter your Book name: Fundamentals\n",
      "Recommended Books for you: \n",
      "1 . Fundamentals of Wavelets\n",
      "2 . Data Smart\n",
      "3 . Image Processing with MATLAB\n",
      "4 . Image Processing & Mathematical Morphology\n",
      "5 . Empire of the Mughal - Ruler of the World\n",
      "6 . Death of Superman, The\n"
     ]
    }
   ],
   "source": [
    "book_name = input('Enter your Book name: ')\n",
    "recommended_books = get_recommended_books(book_name, df, similarity)\n",
    "\n",
    "if recommended_books:\n",
    "    print('Recommended Books for you: ')\n",
    "    for i, book in enumerate(recommended_books, start=1):\n",
    "        print(i, '.', book)\n",
    "else:\n",
    "    print('No close matches found for the given book name.')\n"
   ]
  },
  {
   "cell_type": "code",
   "execution_count": 24,
   "id": "bc207ffb",
   "metadata": {},
   "outputs": [
    {
     "data": {
      "text/html": [
       "<div>\n",
       "<style scoped>\n",
       "    .dataframe tbody tr th:only-of-type {\n",
       "        vertical-align: middle;\n",
       "    }\n",
       "\n",
       "    .dataframe tbody tr th {\n",
       "        vertical-align: top;\n",
       "    }\n",
       "\n",
       "    .dataframe thead th {\n",
       "        text-align: right;\n",
       "    }\n",
       "</style>\n",
       "<table border=\"1\" class=\"dataframe\">\n",
       "  <thead>\n",
       "    <tr style=\"text-align: right;\">\n",
       "      <th></th>\n",
       "      <th>Title</th>\n",
       "      <th>Author</th>\n",
       "      <th>Genre</th>\n",
       "      <th>Height</th>\n",
       "      <th>Publisher</th>\n",
       "      <th>Index</th>\n",
       "    </tr>\n",
       "  </thead>\n",
       "  <tbody>\n",
       "    <tr>\n",
       "      <th>0</th>\n",
       "      <td>Fundamentals of Wavelets</td>\n",
       "      <td>Goswami, Jaideva</td>\n",
       "      <td>signal_processing</td>\n",
       "      <td>228</td>\n",
       "      <td>Wiley</td>\n",
       "      <td>0</td>\n",
       "    </tr>\n",
       "    <tr>\n",
       "      <th>1</th>\n",
       "      <td>Data Smart</td>\n",
       "      <td>Foreman, John</td>\n",
       "      <td>data_science</td>\n",
       "      <td>235</td>\n",
       "      <td>Wiley</td>\n",
       "      <td>1</td>\n",
       "    </tr>\n",
       "    <tr>\n",
       "      <th>2</th>\n",
       "      <td>God Created the Integers</td>\n",
       "      <td>Hawking, Stephen</td>\n",
       "      <td>mathematics</td>\n",
       "      <td>197</td>\n",
       "      <td>Penguin</td>\n",
       "      <td>2</td>\n",
       "    </tr>\n",
       "    <tr>\n",
       "      <th>3</th>\n",
       "      <td>Superfreakonomics</td>\n",
       "      <td>Dubner, Stephen</td>\n",
       "      <td>economics</td>\n",
       "      <td>179</td>\n",
       "      <td>HarperCollins</td>\n",
       "      <td>3</td>\n",
       "    </tr>\n",
       "    <tr>\n",
       "      <th>4</th>\n",
       "      <td>Orientalism</td>\n",
       "      <td>Said, Edward</td>\n",
       "      <td>history</td>\n",
       "      <td>197</td>\n",
       "      <td>Penguin</td>\n",
       "      <td>4</td>\n",
       "    </tr>\n",
       "    <tr>\n",
       "      <th>...</th>\n",
       "      <td>...</td>\n",
       "      <td>...</td>\n",
       "      <td>...</td>\n",
       "      <td>...</td>\n",
       "      <td>...</td>\n",
       "      <td>...</td>\n",
       "    </tr>\n",
       "    <tr>\n",
       "      <th>206</th>\n",
       "      <td>Structure and Randomness</td>\n",
       "      <td>Tao, Terence</td>\n",
       "      <td>mathematics</td>\n",
       "      <td>252</td>\n",
       "      <td></td>\n",
       "      <td>206</td>\n",
       "    </tr>\n",
       "    <tr>\n",
       "      <th>207</th>\n",
       "      <td>Image Processing with MATLAB</td>\n",
       "      <td>Eddins, Steve</td>\n",
       "      <td>signal_processing</td>\n",
       "      <td>241</td>\n",
       "      <td></td>\n",
       "      <td>207</td>\n",
       "    </tr>\n",
       "    <tr>\n",
       "      <th>208</th>\n",
       "      <td>Animal Farm</td>\n",
       "      <td>Orwell, George</td>\n",
       "      <td>fiction</td>\n",
       "      <td>180</td>\n",
       "      <td></td>\n",
       "      <td>208</td>\n",
       "    </tr>\n",
       "    <tr>\n",
       "      <th>209</th>\n",
       "      <td>Idiot, The</td>\n",
       "      <td>Dostoevsky, Fyodor</td>\n",
       "      <td>fiction</td>\n",
       "      <td>197</td>\n",
       "      <td></td>\n",
       "      <td>209</td>\n",
       "    </tr>\n",
       "    <tr>\n",
       "      <th>210</th>\n",
       "      <td>Christmas Carol, A</td>\n",
       "      <td>Dickens, Charles</td>\n",
       "      <td>fiction</td>\n",
       "      <td>196</td>\n",
       "      <td></td>\n",
       "      <td>210</td>\n",
       "    </tr>\n",
       "  </tbody>\n",
       "</table>\n",
       "<p>211 rows × 6 columns</p>\n",
       "</div>"
      ],
      "text/plain": [
       "                            Title              Author              Genre  \\\n",
       "0        Fundamentals of Wavelets    Goswami, Jaideva  signal_processing   \n",
       "1                      Data Smart       Foreman, John       data_science   \n",
       "2        God Created the Integers    Hawking, Stephen        mathematics   \n",
       "3               Superfreakonomics     Dubner, Stephen          economics   \n",
       "4                     Orientalism        Said, Edward            history   \n",
       "..                            ...                 ...                ...   \n",
       "206      Structure and Randomness        Tao, Terence        mathematics   \n",
       "207  Image Processing with MATLAB       Eddins, Steve  signal_processing   \n",
       "208                   Animal Farm      Orwell, George            fiction   \n",
       "209                    Idiot, The  Dostoevsky, Fyodor            fiction   \n",
       "210            Christmas Carol, A    Dickens, Charles            fiction   \n",
       "\n",
       "     Height      Publisher  Index  \n",
       "0       228          Wiley      0  \n",
       "1       235          Wiley      1  \n",
       "2       197        Penguin      2  \n",
       "3       179  HarperCollins      3  \n",
       "4       197        Penguin      4  \n",
       "..      ...            ...    ...  \n",
       "206     252                   206  \n",
       "207     241                   207  \n",
       "208     180                   208  \n",
       "209     197                   209  \n",
       "210     196                   210  \n",
       "\n",
       "[211 rows x 6 columns]"
      ]
     },
     "execution_count": 24,
     "metadata": {},
     "output_type": "execute_result"
    }
   ],
   "source": [
    "pickle.load(open('Book_list.pkl', 'rb'))"
   ]
  },
  {
   "cell_type": "code",
   "execution_count": 25,
   "id": "33506d2c",
   "metadata": {},
   "outputs": [
    {
     "data": {
      "text/plain": [
       "array([[1.        , 0.17731295, 0.00544868, ..., 0.00652781, 0.00742601,\n",
       "        0.0063085 ],\n",
       "       [0.17731295, 1.        , 0.00632138, ..., 0.00757334, 0.00861541,\n",
       "        0.00731891],\n",
       "       [0.00544868, 0.00632138, 1.        , ..., 0.00666664, 0.03502658,\n",
       "        0.00644267],\n",
       "       ...,\n",
       "       [0.00652781, 0.00757334, 0.00666664, ..., 1.        , 0.05235329,\n",
       "        0.04447483],\n",
       "       [0.00742601, 0.00861541, 0.03502658, ..., 0.05235329, 1.        ,\n",
       "        0.05059442],\n",
       "       [0.0063085 , 0.00731891, 0.00644267, ..., 0.04447483, 0.05059442,\n",
       "        1.        ]])"
      ]
     },
     "execution_count": 25,
     "metadata": {},
     "output_type": "execute_result"
    }
   ],
   "source": [
    "pickle.load(open('similarity.pkl', 'rb'))"
   ]
  },
  {
   "cell_type": "code",
   "execution_count": 26,
   "id": "98719e85",
   "metadata": {},
   "outputs": [],
   "source": [
    "def get_recommended_genre(genre_name, df, similarity):\n",
    "    list_of_genre = df['Genre'].unique().tolist()\n",
    "    find_close_match = difflib.get_close_matches(genre_name, list_of_genre)\n",
    "\n",
    "    if find_close_match:\n",
    "        close_match = find_close_match[0]\n",
    "        index_of_the_book = df[df['Genre'] == close_match]['Index'].values[0]\n",
    "        similarity_score = list(enumerate(similarity[index_of_the_book]))\n",
    "        sorted_list = sorted(similarity_score, key=lambda x: x[1], reverse=True)\n",
    "\n",
    "        recommended_books = []\n",
    "        i = 1\n",
    "        for book in sorted_list:\n",
    "            index = book[0]\n",
    "            title_from_index = df[df.index == index]['Title'].values[0]\n",
    "            recommended_books.append(title_from_index)\n",
    "            i += 1\n",
    "            if i > 10:\n",
    "                break\n",
    "\n",
    "        return recommended_books\n",
    "    else:\n",
    "        return None\n"
   ]
  },
  {
   "cell_type": "code",
   "execution_count": 1,
   "id": "d4f36aaf",
   "metadata": {},
   "outputs": [
    {
     "name": "stdout",
     "output_type": "stream",
     "text": [
      "Enter your Genre: signal_processing\n"
     ]
    },
    {
     "ename": "NameError",
     "evalue": "name 'get_recommended_genre' is not defined",
     "output_type": "error",
     "traceback": [
      "\u001b[1;31m---------------------------------------------------------------------------\u001b[0m",
      "\u001b[1;31mNameError\u001b[0m                                 Traceback (most recent call last)",
      "Cell \u001b[1;32mIn[1], line 2\u001b[0m\n\u001b[0;32m      1\u001b[0m genre_name \u001b[38;5;241m=\u001b[39m \u001b[38;5;28minput\u001b[39m(\u001b[38;5;124m'\u001b[39m\u001b[38;5;124mEnter your Genre: \u001b[39m\u001b[38;5;124m'\u001b[39m)\n\u001b[1;32m----> 2\u001b[0m recommended_genre \u001b[38;5;241m=\u001b[39m get_recommended_genre(genre_name, df, similarity)\n\u001b[0;32m      4\u001b[0m \u001b[38;5;28;01mif\u001b[39;00m recommended_genre:\n\u001b[0;32m      5\u001b[0m     \u001b[38;5;28mprint\u001b[39m(\u001b[38;5;124m'\u001b[39m\u001b[38;5;124mRecommended Books for you: \u001b[39m\u001b[38;5;124m'\u001b[39m)\n",
      "\u001b[1;31mNameError\u001b[0m: name 'get_recommended_genre' is not defined"
     ]
    }
   ],
   "source": [
    "genre_name = input('Enter your Genre: ')\n",
    "recommended_genre = get_recommended_genre(genre_name, df, similarity)\n",
    "\n",
    "if recommended_genre:\n",
    "    print('Recommended Books for you: ')\n",
    "    for i, genre in enumerate(recommended_genre, start=1):\n",
    "        print(i, '.', genre)\n",
    "else:\n",
    "    print('No close matches found for the given book name.')\n"
   ]
  },
  {
   "cell_type": "code",
   "execution_count": 28,
   "id": "6a5e4f0c",
   "metadata": {},
   "outputs": [
    {
     "data": {
      "text/plain": [
       "array(['signal_processing', 'data_science', 'mathematics', 'economics',\n",
       "       'history', 'science', 'psychology', 'fiction', 'computer_science',\n",
       "       'nonfiction', 'philosophy', 'comic'], dtype=object)"
      ]
     },
     "execution_count": 28,
     "metadata": {},
     "output_type": "execute_result"
    }
   ],
   "source": [
    "df['Genre'].unique()"
   ]
  },
  {
   "cell_type": "code",
   "execution_count": null,
   "id": "50fc2ab2",
   "metadata": {},
   "outputs": [],
   "source": []
  }
 ],
 "metadata": {
  "kernelspec": {
   "display_name": "Python 3 (ipykernel)",
   "language": "python",
   "name": "python3"
  },
  "language_info": {
   "codemirror_mode": {
    "name": "ipython",
    "version": 3
   },
   "file_extension": ".py",
   "mimetype": "text/x-python",
   "name": "python",
   "nbconvert_exporter": "python",
   "pygments_lexer": "ipython3",
   "version": "3.11.4"
  }
 },
 "nbformat": 4,
 "nbformat_minor": 5
}
